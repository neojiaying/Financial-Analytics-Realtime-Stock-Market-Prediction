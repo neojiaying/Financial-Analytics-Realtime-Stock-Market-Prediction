{
 "cells": [
  {
   "cell_type": "code",
   "execution_count": null,
   "metadata": {
    "id": "3dt8zTxdNh2D"
   },
   "outputs": [],
   "source": [
    "import pandas as pd \n",
    "import numpy as np\n",
    "\n",
    "from math import sqrt\n",
    "from numpy import concatenate\n",
    "from sklearn.preprocessing import MinMaxScaler\n",
    "from sklearn.preprocessing import LabelEncoder\n",
    "from sklearn.metrics import mean_squared_error\n",
    "from matplotlib import pyplot as plt\n",
    "\n",
    "from pandas import read_csv\n",
    "from pandas import DataFrame\n",
    "from pandas import concat\n",
    "from keras.models import Sequential\n",
    "from keras.layers import Dense\n",
    "from keras.layers import LSTM"
   ]
  },
  {
   "cell_type": "code",
   "execution_count": null,
   "metadata": {
    "colab": {
     "base_uri": "https://localhost:8080/"
    },
    "executionInfo": {
     "elapsed": 9176,
     "status": "ok",
     "timestamp": 1616928637381,
     "user": {
      "displayName": "TAY YU LIANG _",
      "photoUrl": "",
      "userId": "00529290869426949889"
     },
     "user_tz": -480
    },
    "id": "MRMWKxghcZVw",
    "outputId": "b29d974b-3845-4d5c-f230-9b16f5edc9ad"
   },
   "outputs": [
    {
     "name": "stdout",
     "output_type": "stream",
     "text": [
      "How many days from today do you want to predict? 3\n",
      "3\n"
     ]
    }
   ],
   "source": [
    "days_to_predict = int(input('How many days from today do you want to predict? '))\n",
    "print(days_to_predict)\n",
    "while days_to_predict==0 or days_to_predict >  3:\n",
    "  print('Please enter a number that is more than 0 and less than or equals to 3.')\n",
    "  days_to_predict = int(input('How many days from today do you want to predict? '))"
   ]
  },
  {
   "cell_type": "code",
   "execution_count": null,
   "metadata": {
    "colab": {
     "base_uri": "https://localhost:8080/",
     "height": 854
    },
    "executionInfo": {
     "elapsed": 9147,
     "status": "ok",
     "timestamp": 1616928637384,
     "user": {
      "displayName": "TAY YU LIANG _",
      "photoUrl": "",
      "userId": "00529290869426949889"
     },
     "user_tz": -480
    },
    "id": "3r0C5NzAlzup",
    "outputId": "da72d68d-bf07-4729-ea0f-b51b9f5219fa"
   },
   "outputs": [
    {
     "data": {
      "text/html": [
       "<div>\n",
       "<style scoped>\n",
       "    .dataframe tbody tr th:only-of-type {\n",
       "        vertical-align: middle;\n",
       "    }\n",
       "\n",
       "    .dataframe tbody tr th {\n",
       "        vertical-align: top;\n",
       "    }\n",
       "\n",
       "    .dataframe thead th {\n",
       "        text-align: right;\n",
       "    }\n",
       "</style>\n",
       "<table border=\"1\" class=\"dataframe\">\n",
       "  <thead>\n",
       "    <tr style=\"text-align: right;\">\n",
       "      <th></th>\n",
       "      <th>Close</th>\n",
       "      <th>Comp</th>\n",
       "    </tr>\n",
       "    <tr>\n",
       "      <th>created_at</th>\n",
       "      <th></th>\n",
       "      <th></th>\n",
       "    </tr>\n",
       "  </thead>\n",
       "  <tbody>\n",
       "    <tr>\n",
       "      <th>2021-03-29 09:30:00</th>\n",
       "      <td>NaN</td>\n",
       "      <td>NaN</td>\n",
       "    </tr>\n",
       "    <tr>\n",
       "      <th>2021-03-29 10:00:00</th>\n",
       "      <td>NaN</td>\n",
       "      <td>NaN</td>\n",
       "    </tr>\n",
       "    <tr>\n",
       "      <th>2021-03-29 10:30:00</th>\n",
       "      <td>NaN</td>\n",
       "      <td>NaN</td>\n",
       "    </tr>\n",
       "    <tr>\n",
       "      <th>2021-03-29 11:00:00</th>\n",
       "      <td>NaN</td>\n",
       "      <td>NaN</td>\n",
       "    </tr>\n",
       "    <tr>\n",
       "      <th>2021-03-29 11:30:00</th>\n",
       "      <td>NaN</td>\n",
       "      <td>NaN</td>\n",
       "    </tr>\n",
       "    <tr>\n",
       "      <th>2021-03-29 12:00:00</th>\n",
       "      <td>NaN</td>\n",
       "      <td>NaN</td>\n",
       "    </tr>\n",
       "    <tr>\n",
       "      <th>2021-03-29 12:30:00</th>\n",
       "      <td>NaN</td>\n",
       "      <td>NaN</td>\n",
       "    </tr>\n",
       "    <tr>\n",
       "      <th>2021-03-29 13:00:00</th>\n",
       "      <td>NaN</td>\n",
       "      <td>NaN</td>\n",
       "    </tr>\n",
       "    <tr>\n",
       "      <th>2021-03-29 13:30:00</th>\n",
       "      <td>NaN</td>\n",
       "      <td>NaN</td>\n",
       "    </tr>\n",
       "    <tr>\n",
       "      <th>2021-03-29 14:00:00</th>\n",
       "      <td>NaN</td>\n",
       "      <td>NaN</td>\n",
       "    </tr>\n",
       "    <tr>\n",
       "      <th>2021-03-29 14:30:00</th>\n",
       "      <td>NaN</td>\n",
       "      <td>NaN</td>\n",
       "    </tr>\n",
       "    <tr>\n",
       "      <th>2021-03-29 15:00:00</th>\n",
       "      <td>NaN</td>\n",
       "      <td>NaN</td>\n",
       "    </tr>\n",
       "    <tr>\n",
       "      <th>2021-03-29 15:30:00</th>\n",
       "      <td>NaN</td>\n",
       "      <td>NaN</td>\n",
       "    </tr>\n",
       "    <tr>\n",
       "      <th>2021-03-30 09:30:00</th>\n",
       "      <td>NaN</td>\n",
       "      <td>NaN</td>\n",
       "    </tr>\n",
       "    <tr>\n",
       "      <th>2021-03-30 10:00:00</th>\n",
       "      <td>NaN</td>\n",
       "      <td>NaN</td>\n",
       "    </tr>\n",
       "    <tr>\n",
       "      <th>2021-03-30 10:30:00</th>\n",
       "      <td>NaN</td>\n",
       "      <td>NaN</td>\n",
       "    </tr>\n",
       "    <tr>\n",
       "      <th>2021-03-30 11:00:00</th>\n",
       "      <td>NaN</td>\n",
       "      <td>NaN</td>\n",
       "    </tr>\n",
       "    <tr>\n",
       "      <th>2021-03-30 11:30:00</th>\n",
       "      <td>NaN</td>\n",
       "      <td>NaN</td>\n",
       "    </tr>\n",
       "    <tr>\n",
       "      <th>2021-03-30 12:00:00</th>\n",
       "      <td>NaN</td>\n",
       "      <td>NaN</td>\n",
       "    </tr>\n",
       "    <tr>\n",
       "      <th>2021-03-30 12:30:00</th>\n",
       "      <td>NaN</td>\n",
       "      <td>NaN</td>\n",
       "    </tr>\n",
       "    <tr>\n",
       "      <th>2021-03-30 13:00:00</th>\n",
       "      <td>NaN</td>\n",
       "      <td>NaN</td>\n",
       "    </tr>\n",
       "    <tr>\n",
       "      <th>2021-03-30 13:30:00</th>\n",
       "      <td>NaN</td>\n",
       "      <td>NaN</td>\n",
       "    </tr>\n",
       "    <tr>\n",
       "      <th>2021-03-30 14:00:00</th>\n",
       "      <td>NaN</td>\n",
       "      <td>NaN</td>\n",
       "    </tr>\n",
       "    <tr>\n",
       "      <th>2021-03-30 14:30:00</th>\n",
       "      <td>NaN</td>\n",
       "      <td>NaN</td>\n",
       "    </tr>\n",
       "    <tr>\n",
       "      <th>2021-03-30 15:00:00</th>\n",
       "      <td>NaN</td>\n",
       "      <td>NaN</td>\n",
       "    </tr>\n",
       "    <tr>\n",
       "      <th>2021-03-30 15:30:00</th>\n",
       "      <td>NaN</td>\n",
       "      <td>NaN</td>\n",
       "    </tr>\n",
       "  </tbody>\n",
       "</table>\n",
       "</div>"
      ],
      "text/plain": [
       "                     Close  Comp\n",
       "created_at                      \n",
       "2021-03-29 09:30:00    NaN   NaN\n",
       "2021-03-29 10:00:00    NaN   NaN\n",
       "2021-03-29 10:30:00    NaN   NaN\n",
       "2021-03-29 11:00:00    NaN   NaN\n",
       "2021-03-29 11:30:00    NaN   NaN\n",
       "2021-03-29 12:00:00    NaN   NaN\n",
       "2021-03-29 12:30:00    NaN   NaN\n",
       "2021-03-29 13:00:00    NaN   NaN\n",
       "2021-03-29 13:30:00    NaN   NaN\n",
       "2021-03-29 14:00:00    NaN   NaN\n",
       "2021-03-29 14:30:00    NaN   NaN\n",
       "2021-03-29 15:00:00    NaN   NaN\n",
       "2021-03-29 15:30:00    NaN   NaN\n",
       "2021-03-30 09:30:00    NaN   NaN\n",
       "2021-03-30 10:00:00    NaN   NaN\n",
       "2021-03-30 10:30:00    NaN   NaN\n",
       "2021-03-30 11:00:00    NaN   NaN\n",
       "2021-03-30 11:30:00    NaN   NaN\n",
       "2021-03-30 12:00:00    NaN   NaN\n",
       "2021-03-30 12:30:00    NaN   NaN\n",
       "2021-03-30 13:00:00    NaN   NaN\n",
       "2021-03-30 13:30:00    NaN   NaN\n",
       "2021-03-30 14:00:00    NaN   NaN\n",
       "2021-03-30 14:30:00    NaN   NaN\n",
       "2021-03-30 15:00:00    NaN   NaN\n",
       "2021-03-30 15:30:00    NaN   NaN"
      ]
     },
     "execution_count": 33,
     "metadata": {
      "tags": []
     },
     "output_type": "execute_result"
    }
   ],
   "source": [
    "import datetime\n",
    "today =  datetime.date.today()\n",
    "year_today = today.year\n",
    "month_today = today.month\n",
    "day_today = today.day\n",
    "\n",
    "future = datetime.date.today() + datetime.timedelta(days=days_to_predict)\n",
    "year_future = future.year\n",
    "month_future = future.month\n",
    "day_future = future.day\n",
    "\n",
    "future_df = (pd.DataFrame(columns=['NULL'],\n",
    "                  index=pd.date_range(today, future,\n",
    "                                      freq='30T'))\n",
    "       .between_time('09:30','15:30')\n",
    "       .index.strftime('%Y-%m-%d %H:%M:%S')\n",
    "       .tolist()\n",
    ")\n",
    "\n",
    "future_df = pd.DataFrame(future_df, columns=['created_at'])\n",
    "future_df['created_at'] = future_df[\"created_at\"].apply(pd.to_datetime)\n",
    "future_df = future_df[future_df['created_at'].dt.weekday < 5]\n",
    "future_df = future_df.set_index('created_at')\n",
    "future_df['Close'] = np.nan\n",
    "future_df['Comp'] = np.nan\n",
    "future_df"
   ]
  },
  {
   "cell_type": "code",
   "execution_count": null,
   "metadata": {
    "colab": {
     "base_uri": "https://localhost:8080/"
    },
    "executionInfo": {
     "elapsed": 9117,
     "status": "ok",
     "timestamp": 1616928637386,
     "user": {
      "displayName": "TAY YU LIANG _",
      "photoUrl": "",
      "userId": "00529290869426949889"
     },
     "user_tz": -480
    },
    "id": "SO-9nuK9l9DN",
    "outputId": "2bc6e560-da0e-4b42-958d-4c34922a2471"
   },
   "outputs": [
    {
     "name": "stdout",
     "output_type": "stream",
     "text": [
      "26\n"
     ]
    }
   ],
   "source": [
    "predict_rows = len(future_df)\n",
    "print(predict_rows)"
   ]
  },
  {
   "cell_type": "code",
   "execution_count": null,
   "metadata": {
    "colab": {
     "base_uri": "https://localhost:8080/",
     "height": 227
    },
    "executionInfo": {
     "elapsed": 9096,
     "status": "ok",
     "timestamp": 1616928637388,
     "user": {
      "displayName": "TAY YU LIANG _",
      "photoUrl": "",
      "userId": "00529290869426949889"
     },
     "user_tz": -480
    },
    "id": "BanOrSNfN78l",
    "outputId": "68fcd63e-da93-48a9-8b4a-3af2d5b06179"
   },
   "outputs": [
    {
     "data": {
      "text/html": [
       "<div>\n",
       "<style scoped>\n",
       "    .dataframe tbody tr th:only-of-type {\n",
       "        vertical-align: middle;\n",
       "    }\n",
       "\n",
       "    .dataframe tbody tr th {\n",
       "        vertical-align: top;\n",
       "    }\n",
       "\n",
       "    .dataframe thead th {\n",
       "        text-align: right;\n",
       "    }\n",
       "</style>\n",
       "<table border=\"1\" class=\"dataframe\">\n",
       "  <thead>\n",
       "    <tr style=\"text-align: right;\">\n",
       "      <th></th>\n",
       "      <th>Close</th>\n",
       "      <th>Comp</th>\n",
       "    </tr>\n",
       "    <tr>\n",
       "      <th>Datetime</th>\n",
       "      <th></th>\n",
       "      <th></th>\n",
       "    </tr>\n",
       "  </thead>\n",
       "  <tbody>\n",
       "    <tr>\n",
       "      <th>2020-12-30 09:30:00</th>\n",
       "      <td>37.099998</td>\n",
       "      <td>0.668767</td>\n",
       "    </tr>\n",
       "    <tr>\n",
       "      <th>2020-12-30 10:00:00</th>\n",
       "      <td>37.009998</td>\n",
       "      <td>0.143571</td>\n",
       "    </tr>\n",
       "    <tr>\n",
       "      <th>2020-12-30 10:30:00</th>\n",
       "      <td>37.090000</td>\n",
       "      <td>0.317000</td>\n",
       "    </tr>\n",
       "    <tr>\n",
       "      <th>2020-12-30 11:00:00</th>\n",
       "      <td>37.079899</td>\n",
       "      <td>0.047514</td>\n",
       "    </tr>\n",
       "    <tr>\n",
       "      <th>2020-12-30 11:30:00</th>\n",
       "      <td>37.044998</td>\n",
       "      <td>0.317800</td>\n",
       "    </tr>\n",
       "  </tbody>\n",
       "</table>\n",
       "</div>"
      ],
      "text/plain": [
       "                         Close      Comp\n",
       "Datetime                                \n",
       "2020-12-30 09:30:00  37.099998  0.668767\n",
       "2020-12-30 10:00:00  37.009998  0.143571\n",
       "2020-12-30 10:30:00  37.090000  0.317000\n",
       "2020-12-30 11:00:00  37.079899  0.047514\n",
       "2020-12-30 11:30:00  37.044998  0.317800"
      ]
     },
     "execution_count": 35,
     "metadata": {
      "tags": []
     },
     "output_type": "execute_result"
    }
   ],
   "source": [
    "final = pd.read_csv('final.csv') \n",
    "final = final.set_index('Datetime')\n",
    "final.head()"
   ]
  },
  {
   "cell_type": "code",
   "execution_count": null,
   "metadata": {
    "id": "WOPbbMtymw7o"
   },
   "outputs": [],
   "source": [
    "#Scaling for dataframes with 2 columns\n",
    "# Feature Scaling for fast training of neural networks\n",
    "from sklearn.preprocessing import StandardScaler, MinMaxScaler\n",
    " \n",
    "sc = MinMaxScaler()\n",
    " \n",
    "DataScaler = sc.fit(final)\n",
    "X = DataScaler.transform(final)"
   ]
  },
  {
   "cell_type": "code",
   "execution_count": null,
   "metadata": {
    "id": "pDc45NUTV8BN"
   },
   "outputs": [],
   "source": [
    "#Scaling for dataframes with 1 column\n",
    "# Feature Scaling for fast training of neural networks\n",
    "from sklearn.preprocessing import StandardScaler, MinMaxScaler\n",
    " \n",
    "df_price = final.drop(columns='Comp')\n",
    "\n",
    "sc_y = MinMaxScaler()\n",
    " \n",
    "DataScaler_y = sc_y.fit(df_price)\n",
    "Y = DataScaler_y.transform(df_price)"
   ]
  },
  {
   "cell_type": "code",
   "execution_count": null,
   "metadata": {
    "id": "iAl7VX-xWA2a"
   },
   "outputs": [],
   "source": [
    "# split into samples\n",
    "X_samples = list()\n",
    "y_samples = list()\n",
    " \n",
    "NumerOfRows = len(X)\n",
    "TimeSteps= 26  # Price Prediction for n days is based on last how many rows of data, 26 = 2 days\n",
    " \n",
    "# Iterate thru the values to create combinations\n",
    "for i in range(TimeSteps , NumerOfRows , 1):\n",
    "    x_sample = X[i-TimeSteps:i]\n",
    "    y_sample = X[i]\n",
    "    X_samples.append(x_sample)\n",
    "    y_samples.append(y_sample)"
   ]
  },
  {
   "cell_type": "code",
   "execution_count": null,
   "metadata": {
    "colab": {
     "base_uri": "https://localhost:8080/"
    },
    "executionInfo": {
     "elapsed": 9010,
     "status": "ok",
     "timestamp": 1616928637402,
     "user": {
      "displayName": "TAY YU LIANG _",
      "photoUrl": "",
      "userId": "00529290869426949889"
     },
     "user_tz": -480
    },
    "id": "7cMUjIj6XADM",
    "outputId": "5872bc11-eeaf-4e41-df40-087b18bdb879"
   },
   "outputs": [
    {
     "data": {
      "text/plain": [
       "(760, 26, 2)"
      ]
     },
     "execution_count": 39,
     "metadata": {
      "tags": []
     },
     "output_type": "execute_result"
    }
   ],
   "source": [
    "X_data=np.array(X_samples)\n",
    "X_data.shape"
   ]
  },
  {
   "cell_type": "code",
   "execution_count": null,
   "metadata": {
    "colab": {
     "base_uri": "https://localhost:8080/"
    },
    "executionInfo": {
     "elapsed": 8981,
     "status": "ok",
     "timestamp": 1616928637404,
     "user": {
      "displayName": "TAY YU LIANG _",
      "photoUrl": "",
      "userId": "00529290869426949889"
     },
     "user_tz": -480
    },
    "id": "ZS81l5ZjWgwK",
    "outputId": "af064dad-a912-41f5-98ab-8eb4df439565"
   },
   "outputs": [
    {
     "name": "stdout",
     "output_type": "stream",
     "text": [
      "\n",
      "#### Input Data shape ####\n",
      "(760, 26, 2)\n",
      "\n",
      "#### Output Data shape ####\n",
      "(760, 2)\n"
     ]
    }
   ],
   "source": [
    "################################################\n",
    "# Reshape the Input as a 3D (number of samples, Time Steps, Features)\n",
    "X_data=np.array(X_samples)\n",
    "X_data=X_data.reshape(X_data.shape[0],X_data.shape[1], -1)\n",
    "print('\\n#### Input Data shape ####')\n",
    "print(X_data.shape)\n",
    " \n",
    "# We do not reshape y as a 3D data  as it is supposed to be a single column only\n",
    "y_data=np.array(y_samples)\n",
    "y_data=y_data.reshape(y_data.shape[0], -1)\n",
    "print('\\n#### Output Data shape ####')\n",
    "print(y_data.shape)"
   ]
  },
  {
   "cell_type": "code",
   "execution_count": null,
   "metadata": {
    "colab": {
     "base_uri": "https://localhost:8080/"
    },
    "executionInfo": {
     "elapsed": 8952,
     "status": "ok",
     "timestamp": 1616928637406,
     "user": {
      "displayName": "TAY YU LIANG _",
      "photoUrl": "",
      "userId": "00529290869426949889"
     },
     "user_tz": -480
    },
    "id": "njfGree5XMP1",
    "outputId": "2f6634c4-bfbd-41da-9dfc-e8c7918afa09"
   },
   "outputs": [
    {
     "name": "stdout",
     "output_type": "stream",
     "text": [
      "\n",
      "#### Training Data shape ####\n",
      "(634, 26, 2)\n",
      "(634, 2)\n",
      "\n",
      "#### Testing Data shape ####\n",
      "(152, 26, 2)\n",
      "(152, 2)\n"
     ]
    }
   ],
   "source": [
    "# Choosing the number of testing data records\n",
    "TestingRecords= round(0.2 * y_data.shape[0]) #take 20% of the data for testing\n",
    "\n",
    "# Splitting the data into train and test\n",
    "#https://datascience.stackexchange.com/questions/30762/how-to-predict-the-future-values-of-time-horizon-with-keras\n",
    "X_train=X_data[:-TestingRecords+predict_rows]\n",
    "X_test=X_data[-TestingRecords:]\n",
    "y_train=y_data[:-TestingRecords+predict_rows]\n",
    "y_test=y_data[-TestingRecords:]\n",
    " \n",
    "############################################\n",
    " \n",
    "# Printing the shape of training and testing\n",
    "print('\\n#### Training Data shape ####')\n",
    "print(X_train.shape)\n",
    "print(y_train.shape)\n",
    "print('\\n#### Testing Data shape ####')\n",
    "print(X_test.shape)\n",
    "print(y_test.shape)"
   ]
  },
  {
   "cell_type": "code",
   "execution_count": null,
   "metadata": {
    "colab": {
     "base_uri": "https://localhost:8080/"
    },
    "executionInfo": {
     "elapsed": 8922,
     "status": "ok",
     "timestamp": 1616928637408,
     "user": {
      "displayName": "TAY YU LIANG _",
      "photoUrl": "",
      "userId": "00529290869426949889"
     },
     "user_tz": -480
    },
    "id": "VqBhDPpbXer1",
    "outputId": "8584b90f-2910-4962-b095-a4bb47f33919"
   },
   "outputs": [
    {
     "name": "stdout",
     "output_type": "stream",
     "text": [
      "Number of TimeSteps: 26\n",
      "Number of Features: 2\n"
     ]
    }
   ],
   "source": [
    "# Defining Input shapes for LSTM\n",
    "TimeSteps=X_train.shape[1]\n",
    "TotalFeatures=X_train.shape[2]\n",
    "print(\"Number of TimeSteps:\", TimeSteps)\n",
    "print(\"Number of Features:\", TotalFeatures)"
   ]
  },
  {
   "cell_type": "code",
   "execution_count": null,
   "metadata": {
    "colab": {
     "base_uri": "https://localhost:8080/"
    },
    "executionInfo": {
     "elapsed": 163671,
     "status": "ok",
     "timestamp": 1616928792182,
     "user": {
      "displayName": "TAY YU LIANG _",
      "photoUrl": "",
      "userId": "00529290869426949889"
     },
     "user_tz": -480
    },
    "id": "S71CGiBTXlHB",
    "outputId": "d055843f-6a54-4485-c81c-bb533366b70c"
   },
   "outputs": [
    {
     "name": "stdout",
     "output_type": "stream",
     "text": [
      "Epoch 1/50\n",
      "212/212 [==============================] - 7s 17ms/step - loss: 0.0418\n",
      "Epoch 2/50\n",
      "212/212 [==============================] - 4s 17ms/step - loss: 0.0309\n",
      "Epoch 3/50\n",
      "212/212 [==============================] - 3s 16ms/step - loss: 0.0285\n",
      "Epoch 4/50\n",
      "212/212 [==============================] - 3s 16ms/step - loss: 0.0289\n",
      "Epoch 5/50\n",
      "212/212 [==============================] - 3s 16ms/step - loss: 0.0262\n",
      "Epoch 6/50\n",
      "212/212 [==============================] - 3s 16ms/step - loss: 0.0282\n",
      "Epoch 7/50\n",
      "212/212 [==============================] - 3s 14ms/step - loss: 0.0266\n",
      "Epoch 8/50\n",
      "212/212 [==============================] - 3s 15ms/step - loss: 0.0269\n",
      "Epoch 9/50\n",
      "212/212 [==============================] - 3s 15ms/step - loss: 0.0273\n",
      "Epoch 10/50\n",
      "212/212 [==============================] - 3s 15ms/step - loss: 0.0266\n",
      "Epoch 11/50\n",
      "212/212 [==============================] - 3s 15ms/step - loss: 0.0277\n",
      "Epoch 12/50\n",
      "212/212 [==============================] - 3s 15ms/step - loss: 0.0260\n",
      "Epoch 13/50\n",
      "212/212 [==============================] - 3s 15ms/step - loss: 0.0266\n",
      "Epoch 14/50\n",
      "212/212 [==============================] - 3s 15ms/step - loss: 0.0298\n",
      "Epoch 15/50\n",
      "212/212 [==============================] - 3s 15ms/step - loss: 0.0261\n",
      "Epoch 16/50\n",
      "212/212 [==============================] - 3s 15ms/step - loss: 0.0257\n",
      "Epoch 17/50\n",
      "212/212 [==============================] - 3s 15ms/step - loss: 0.0279\n",
      "Epoch 18/50\n",
      "212/212 [==============================] - 3s 14ms/step - loss: 0.0281\n",
      "Epoch 19/50\n",
      "212/212 [==============================] - 3s 13ms/step - loss: 0.0260\n",
      "Epoch 20/50\n",
      "212/212 [==============================] - 3s 14ms/step - loss: 0.0265\n",
      "Epoch 21/50\n",
      "212/212 [==============================] - 3s 14ms/step - loss: 0.0265\n",
      "Epoch 22/50\n",
      "212/212 [==============================] - 3s 13ms/step - loss: 0.0271\n",
      "Epoch 23/50\n",
      "212/212 [==============================] - 3s 13ms/step - loss: 0.0278\n",
      "Epoch 24/50\n",
      "212/212 [==============================] - 3s 14ms/step - loss: 0.0258\n",
      "Epoch 25/50\n",
      "212/212 [==============================] - 3s 14ms/step - loss: 0.0256\n",
      "Epoch 26/50\n",
      "212/212 [==============================] - 3s 14ms/step - loss: 0.0272\n",
      "Epoch 27/50\n",
      "212/212 [==============================] - 3s 14ms/step - loss: 0.0287\n",
      "Epoch 28/50\n",
      "212/212 [==============================] - 3s 14ms/step - loss: 0.0276\n",
      "Epoch 29/50\n",
      "212/212 [==============================] - 3s 14ms/step - loss: 0.0279\n",
      "Epoch 30/50\n",
      "212/212 [==============================] - 3s 13ms/step - loss: 0.0269\n",
      "Epoch 31/50\n",
      "212/212 [==============================] - 3s 14ms/step - loss: 0.0276\n",
      "Epoch 32/50\n",
      "212/212 [==============================] - 3s 14ms/step - loss: 0.0272\n",
      "Epoch 33/50\n",
      "212/212 [==============================] - 3s 13ms/step - loss: 0.0255\n",
      "Epoch 34/50\n",
      "212/212 [==============================] - 3s 14ms/step - loss: 0.0275\n",
      "Epoch 35/50\n",
      "212/212 [==============================] - 3s 13ms/step - loss: 0.0271\n",
      "Epoch 36/50\n",
      "212/212 [==============================] - 3s 13ms/step - loss: 0.0273\n",
      "Epoch 37/50\n",
      "212/212 [==============================] - 3s 14ms/step - loss: 0.0250\n",
      "Epoch 38/50\n",
      "212/212 [==============================] - 3s 14ms/step - loss: 0.0267\n",
      "Epoch 39/50\n",
      "212/212 [==============================] - 3s 14ms/step - loss: 0.0272\n",
      "Epoch 40/50\n",
      "212/212 [==============================] - 3s 13ms/step - loss: 0.0282\n",
      "Epoch 41/50\n",
      "212/212 [==============================] - 3s 13ms/step - loss: 0.0269\n",
      "Epoch 42/50\n",
      "212/212 [==============================] - 3s 14ms/step - loss: 0.0276\n",
      "Epoch 43/50\n",
      "212/212 [==============================] - 3s 14ms/step - loss: 0.0259\n",
      "Epoch 44/50\n",
      "212/212 [==============================] - 3s 14ms/step - loss: 0.0274\n",
      "Epoch 45/50\n",
      "212/212 [==============================] - 3s 14ms/step - loss: 0.0276\n",
      "Epoch 46/50\n",
      "212/212 [==============================] - 3s 14ms/step - loss: 0.0284\n",
      "Epoch 47/50\n",
      "212/212 [==============================] - 3s 14ms/step - loss: 0.0242\n",
      "Epoch 48/50\n",
      "212/212 [==============================] - 3s 14ms/step - loss: 0.0270\n",
      "Epoch 49/50\n",
      "212/212 [==============================] - 3s 13ms/step - loss: 0.0286\n",
      "Epoch 50/50\n",
      "212/212 [==============================] - 3s 14ms/step - loss: 0.0255\n",
      "## Total Time Taken:  3 Minutes ##\n"
     ]
    }
   ],
   "source": [
    "from keras.models import Sequential\n",
    "from keras.layers import Dense\n",
    "from keras.layers import LSTM\n",
    " \n",
    "# Initialising the RNN\n",
    "regressor = Sequential()\n",
    " \n",
    "# Adding the First input hidden layer and the LSTM layer\n",
    "# return_sequences = True, means the output of every time step to be shared with hidden next layer\n",
    "regressor.add(LSTM(units = 10, activation = 'tanh', input_shape = (TimeSteps, TotalFeatures), return_sequences=True))\n",
    " \n",
    "# Adding the Second hidden layer and the LSTM layer\n",
    "regressor.add(LSTM(units = 5, activation = 'tanh', return_sequences=False )) \n",
    " \n",
    "# Adding the Third output layer\n",
    "regressor.add(Dense(units = 1))\n",
    " \n",
    "# Compiling the RNN\n",
    "regressor.compile(optimizer = 'adam', loss = 'mean_squared_error')\n",
    " \n",
    "##################################################\n",
    " \n",
    "import time\n",
    "# Measuring the time taken by the model to train\n",
    "StartTime=time.time()\n",
    " \n",
    "# Fitting the RNN to the Training set\n",
    "regressor.fit(X_train, y_train, batch_size = 3, epochs = 50)\n",
    " \n",
    "EndTime=time.time()\n",
    "print(\"## Total Time Taken: \", round((EndTime-StartTime)/60), 'Minutes ##')"
   ]
  },
  {
   "cell_type": "code",
   "execution_count": null,
   "metadata": {
    "colab": {
     "base_uri": "https://localhost:8080/"
    },
    "executionInfo": {
     "elapsed": 164249,
     "status": "ok",
     "timestamp": 1616928792781,
     "user": {
      "displayName": "TAY YU LIANG _",
      "photoUrl": "",
      "userId": "00529290869426949889"
     },
     "user_tz": -480
    },
    "id": "8JM-JJtaYAdm",
    "outputId": "17bfad75-9da7-45af-f6b3-9c2c34ae162d"
   },
   "outputs": [
    {
     "name": "stdout",
     "output_type": "stream",
     "text": [
      "Accuracy: 99.16988036213574\n"
     ]
    }
   ],
   "source": [
    "# Making predictions on test data\n",
    "predicted_Price = regressor.predict(X_test)\n",
    "predicted_Price = DataScaler_y.inverse_transform(predicted_Price)\n",
    "\n",
    "# Getting the original price values for testing data\n",
    "orig=y_test\n",
    "orig=DataScaler_y.inverse_transform(y_test)\n",
    "\n",
    "# Accuracy of the predictions\n",
    "print('Accuracy:', 100 - (100*(abs(orig-predicted_Price)/orig)).mean())"
   ]
  },
  {
   "cell_type": "code",
   "execution_count": null,
   "metadata": {
    "colab": {
     "base_uri": "https://localhost:8080/",
     "height": 405
    },
    "executionInfo": {
     "elapsed": 164225,
     "status": "ok",
     "timestamp": 1616928792784,
     "user": {
      "displayName": "TAY YU LIANG _",
      "photoUrl": "",
      "userId": "00529290869426949889"
     },
     "user_tz": -480
    },
    "id": "YgShMb-tZNNJ",
    "outputId": "13a30482-1df6-4c3d-a0a6-ae8a207cb528"
   },
   "outputs": [
    {
     "data": {
      "text/html": [
       "<div>\n",
       "<style scoped>\n",
       "    .dataframe tbody tr th:only-of-type {\n",
       "        vertical-align: middle;\n",
       "    }\n",
       "\n",
       "    .dataframe tbody tr th {\n",
       "        vertical-align: top;\n",
       "    }\n",
       "\n",
       "    .dataframe thead th {\n",
       "        text-align: right;\n",
       "    }\n",
       "</style>\n",
       "<table border=\"1\" class=\"dataframe\">\n",
       "  <thead>\n",
       "    <tr style=\"text-align: right;\">\n",
       "      <th></th>\n",
       "      <th>Close</th>\n",
       "      <th>Comp</th>\n",
       "      <th>Predicted_Close</th>\n",
       "    </tr>\n",
       "  </thead>\n",
       "  <tbody>\n",
       "    <tr>\n",
       "      <th>2021-01-01 09:30:00</th>\n",
       "      <td>36.790001</td>\n",
       "      <td>0.265300</td>\n",
       "      <td>36.358036</td>\n",
       "    </tr>\n",
       "    <tr>\n",
       "      <th>2021-01-01 10:00:00</th>\n",
       "      <td>36.790001</td>\n",
       "      <td>0.245100</td>\n",
       "      <td>36.331097</td>\n",
       "    </tr>\n",
       "    <tr>\n",
       "      <th>2021-01-01 10:30:00</th>\n",
       "      <td>36.790001</td>\n",
       "      <td>0.257640</td>\n",
       "      <td>36.320087</td>\n",
       "    </tr>\n",
       "    <tr>\n",
       "      <th>2021-01-01 11:00:00</th>\n",
       "      <td>36.790001</td>\n",
       "      <td>0.113250</td>\n",
       "      <td>36.316307</td>\n",
       "    </tr>\n",
       "    <tr>\n",
       "      <th>2021-01-01 11:30:00</th>\n",
       "      <td>36.790001</td>\n",
       "      <td>0.501367</td>\n",
       "      <td>36.295177</td>\n",
       "    </tr>\n",
       "    <tr>\n",
       "      <th>...</th>\n",
       "      <td>...</td>\n",
       "      <td>...</td>\n",
       "      <td>...</td>\n",
       "    </tr>\n",
       "    <tr>\n",
       "      <th>2021-03-30 13:30:00</th>\n",
       "      <td>NaN</td>\n",
       "      <td>NaN</td>\n",
       "      <td>35.800816</td>\n",
       "    </tr>\n",
       "    <tr>\n",
       "      <th>2021-03-30 14:00:00</th>\n",
       "      <td>NaN</td>\n",
       "      <td>NaN</td>\n",
       "      <td>35.861416</td>\n",
       "    </tr>\n",
       "    <tr>\n",
       "      <th>2021-03-30 14:30:00</th>\n",
       "      <td>NaN</td>\n",
       "      <td>NaN</td>\n",
       "      <td>35.893414</td>\n",
       "    </tr>\n",
       "    <tr>\n",
       "      <th>2021-03-30 15:00:00</th>\n",
       "      <td>NaN</td>\n",
       "      <td>NaN</td>\n",
       "      <td>35.933006</td>\n",
       "    </tr>\n",
       "    <tr>\n",
       "      <th>2021-03-30 15:30:00</th>\n",
       "      <td>NaN</td>\n",
       "      <td>NaN</td>\n",
       "      <td>35.917534</td>\n",
       "    </tr>\n",
       "  </tbody>\n",
       "</table>\n",
       "<p>786 rows × 3 columns</p>\n",
       "</div>"
      ],
      "text/plain": [
       "                         Close      Comp  Predicted_Close\n",
       "2021-01-01 09:30:00  36.790001  0.265300        36.358036\n",
       "2021-01-01 10:00:00  36.790001  0.245100        36.331097\n",
       "2021-01-01 10:30:00  36.790001  0.257640        36.320087\n",
       "2021-01-01 11:00:00  36.790001  0.113250        36.316307\n",
       "2021-01-01 11:30:00  36.790001  0.501367        36.295177\n",
       "...                        ...       ...              ...\n",
       "2021-03-30 13:30:00        NaN       NaN        35.800816\n",
       "2021-03-30 14:00:00        NaN       NaN        35.861416\n",
       "2021-03-30 14:30:00        NaN       NaN        35.893414\n",
       "2021-03-30 15:00:00        NaN       NaN        35.933006\n",
       "2021-03-30 15:30:00        NaN       NaN        35.917534\n",
       "\n",
       "[786 rows x 3 columns]"
      ]
     },
     "execution_count": 45,
     "metadata": {
      "tags": []
     },
     "output_type": "execute_result"
    }
   ],
   "source": [
    "# Generating predictions on full data\n",
    "TrainPredictions=DataScaler_y.inverse_transform(regressor.predict(X_train))\n",
    "TestPredictions=DataScaler_y.inverse_transform(regressor.predict(X_test))\n",
    "\n",
    "FullDataPredictions=np.append(TrainPredictions, TestPredictions)\n",
    "FullDataOrig=final[TimeSteps:]\n",
    "\n",
    "FullDataOrig = FullDataOrig.append(future_df)\n",
    "FullDataOrig['Predicted_Close'] = FullDataPredictions\n",
    "FullDataOrig"
   ]
  },
  {
   "cell_type": "code",
   "execution_count": null,
   "metadata": {
    "colab": {
     "base_uri": "https://localhost:8080/",
     "height": 405
    },
    "executionInfo": {
     "elapsed": 164196,
     "status": "ok",
     "timestamp": 1616928792785,
     "user": {
      "displayName": "TAY YU LIANG _",
      "photoUrl": "",
      "userId": "00529290869426949889"
     },
     "user_tz": -480
    },
    "id": "e8jyOBjun3iV",
    "outputId": "3f5f856d-d81e-4d31-f5be-0edf7f6e276c"
   },
   "outputs": [
    {
     "data": {
      "text/html": [
       "<div>\n",
       "<style scoped>\n",
       "    .dataframe tbody tr th:only-of-type {\n",
       "        vertical-align: middle;\n",
       "    }\n",
       "\n",
       "    .dataframe tbody tr th {\n",
       "        vertical-align: top;\n",
       "    }\n",
       "\n",
       "    .dataframe thead th {\n",
       "        text-align: right;\n",
       "    }\n",
       "</style>\n",
       "<table border=\"1\" class=\"dataframe\">\n",
       "  <thead>\n",
       "    <tr style=\"text-align: right;\">\n",
       "      <th></th>\n",
       "      <th>Close</th>\n",
       "      <th>Comp</th>\n",
       "      <th>Predicted_Close</th>\n",
       "    </tr>\n",
       "  </thead>\n",
       "  <tbody>\n",
       "    <tr>\n",
       "      <th>2021-01-01 09:30:00</th>\n",
       "      <td>36.790001</td>\n",
       "      <td>0.265300</td>\n",
       "      <td>36.358036</td>\n",
       "    </tr>\n",
       "    <tr>\n",
       "      <th>2021-01-01 10:00:00</th>\n",
       "      <td>36.790001</td>\n",
       "      <td>0.245100</td>\n",
       "      <td>36.331097</td>\n",
       "    </tr>\n",
       "    <tr>\n",
       "      <th>2021-01-01 10:30:00</th>\n",
       "      <td>36.790001</td>\n",
       "      <td>0.257640</td>\n",
       "      <td>36.320087</td>\n",
       "    </tr>\n",
       "    <tr>\n",
       "      <th>2021-01-01 11:00:00</th>\n",
       "      <td>36.790001</td>\n",
       "      <td>0.113250</td>\n",
       "      <td>36.316307</td>\n",
       "    </tr>\n",
       "    <tr>\n",
       "      <th>2021-01-01 11:30:00</th>\n",
       "      <td>36.790001</td>\n",
       "      <td>0.501367</td>\n",
       "      <td>36.295177</td>\n",
       "    </tr>\n",
       "    <tr>\n",
       "      <th>...</th>\n",
       "      <td>...</td>\n",
       "      <td>...</td>\n",
       "      <td>...</td>\n",
       "    </tr>\n",
       "    <tr>\n",
       "      <th>2021-03-30 13:30:00</th>\n",
       "      <td>NaN</td>\n",
       "      <td>NaN</td>\n",
       "      <td>35.800816</td>\n",
       "    </tr>\n",
       "    <tr>\n",
       "      <th>2021-03-30 14:00:00</th>\n",
       "      <td>NaN</td>\n",
       "      <td>NaN</td>\n",
       "      <td>35.861416</td>\n",
       "    </tr>\n",
       "    <tr>\n",
       "      <th>2021-03-30 14:30:00</th>\n",
       "      <td>NaN</td>\n",
       "      <td>NaN</td>\n",
       "      <td>35.893414</td>\n",
       "    </tr>\n",
       "    <tr>\n",
       "      <th>2021-03-30 15:00:00</th>\n",
       "      <td>NaN</td>\n",
       "      <td>NaN</td>\n",
       "      <td>35.933006</td>\n",
       "    </tr>\n",
       "    <tr>\n",
       "      <th>2021-03-30 15:30:00</th>\n",
       "      <td>NaN</td>\n",
       "      <td>NaN</td>\n",
       "      <td>35.917534</td>\n",
       "    </tr>\n",
       "  </tbody>\n",
       "</table>\n",
       "<p>786 rows × 3 columns</p>\n",
       "</div>"
      ],
      "text/plain": [
       "                         Close      Comp  Predicted_Close\n",
       "2021-01-01 09:30:00  36.790001  0.265300        36.358036\n",
       "2021-01-01 10:00:00  36.790001  0.245100        36.331097\n",
       "2021-01-01 10:30:00  36.790001  0.257640        36.320087\n",
       "2021-01-01 11:00:00  36.790001  0.113250        36.316307\n",
       "2021-01-01 11:30:00  36.790001  0.501367        36.295177\n",
       "...                        ...       ...              ...\n",
       "2021-03-30 13:30:00        NaN       NaN        35.800816\n",
       "2021-03-30 14:00:00        NaN       NaN        35.861416\n",
       "2021-03-30 14:30:00        NaN       NaN        35.893414\n",
       "2021-03-30 15:00:00        NaN       NaN        35.933006\n",
       "2021-03-30 15:30:00        NaN       NaN        35.917534\n",
       "\n",
       "[786 rows x 3 columns]"
      ]
     },
     "execution_count": 46,
     "metadata": {
      "tags": []
     },
     "output_type": "execute_result"
    }
   ],
   "source": [
    "FullDataOrig.index=FullDataOrig.index.astype(str)\n",
    "FullDataOrig"
   ]
  },
  {
   "cell_type": "markdown",
   "metadata": {
    "id": "Aw5VjR5vi22w"
   },
   "source": [
    "### Check RMSE"
   ]
  },
  {
   "cell_type": "code",
   "execution_count": null,
   "metadata": {
    "colab": {
     "base_uri": "https://localhost:8080/"
    },
    "executionInfo": {
     "elapsed": 164169,
     "status": "ok",
     "timestamp": 1616928792787,
     "user": {
      "displayName": "TAY YU LIANG _",
      "photoUrl": "",
      "userId": "00529290869426949889"
     },
     "user_tz": -480
    },
    "id": "94oXmUFWi2MV",
    "outputId": "b036b42f-f9f4-4324-ad8c-bf1e4b5cc618"
   },
   "outputs": [
    {
     "data": {
      "text/plain": [
       "0.5665895860934317"
      ]
     },
     "execution_count": 47,
     "metadata": {
      "tags": []
     },
     "output_type": "execute_result"
    }
   ],
   "source": [
    "from statsmodels.tools.eval_measures import rmse\n",
    "\n",
    "df1 = FullDataOrig.dropna()\n",
    "error = rmse(df1['Predicted_Close'],df1['Close'])\n",
    "error"
   ]
  },
  {
   "cell_type": "code",
   "execution_count": null,
   "metadata": {
    "colab": {
     "base_uri": "https://localhost:8080/"
    },
    "executionInfo": {
     "elapsed": 164153,
     "status": "ok",
     "timestamp": 1616928792789,
     "user": {
      "displayName": "TAY YU LIANG _",
      "photoUrl": "",
      "userId": "00529290869426949889"
     },
     "user_tz": -480
    },
    "id": "N-ofKOsV8QQZ",
    "outputId": "c05d3bce-a324-468a-aa0c-f062a2951baa"
   },
   "outputs": [
    {
     "name": "stdout",
     "output_type": "stream",
     "text": [
      "Mean squared error = 0.57\n"
     ]
    }
   ],
   "source": [
    "from statsmodels.tools.eval_measures import rmse\n",
    "\n",
    "error = rmse(df1['Predicted_Close'],df1['Close'])\n",
    "print('Mean squared error =',round(error,2))"
   ]
  },
  {
   "cell_type": "code",
   "execution_count": null,
   "metadata": {
    "colab": {
     "base_uri": "https://localhost:8080/",
     "height": 513
    },
    "executionInfo": {
     "elapsed": 173534,
     "status": "ok",
     "timestamp": 1616928802192,
     "user": {
      "displayName": "TAY YU LIANG _",
      "photoUrl": "",
      "userId": "00529290869426949889"
     },
     "user_tz": -480
    },
    "id": "udiL3W8hWmj0",
    "outputId": "cbe84849-3f89-4dcf-d07c-2474f677c644"
   },
   "outputs": [
    {
     "data": {
      "image/png": "[encoded data removed]",
      "text/plain": [
       "<Figure size 1440x576 with 1 Axes>"
      ]
     },
     "metadata": {
      "needs_background": "light",
      "tags": []
     },
     "output_type": "display_data"
    }
   ],
   "source": [
    "# plotting the full data\n",
    "plt.plot(FullDataOrig['Close'] , color = 'red', label = 'Original Price')\n",
    "plt.plot(FullDataOrig['Predicted_Close'] , color = 'blue', label = 'Predicted Price')\n",
    "\n",
    "\n",
    "plt.title('Stock Price Predictions')\n",
    "plt.xlabel('Trading Datetime')\n",
    "plt.ylabel('Stock Price')\n",
    "plt.legend()\n",
    "fig=plt.gcf()\n",
    "fig.set_figwidth(20)\n",
    "fig.set_figheight(8)\n",
    "plt.show()"
   ]
  },
  {
   "cell_type": "markdown",
   "metadata": {},
   "source": [
    "## Normalised predictions"
   ]
  },
  {
   "cell_type": "code",
   "execution_count": null,
   "metadata": {
    "colab": {
     "base_uri": "https://localhost:8080/",
     "height": 435
    },
    "executionInfo": {
     "elapsed": 173487,
     "status": "ok",
     "timestamp": 1616928802195,
     "user": {
      "displayName": "TAY YU LIANG _",
      "photoUrl": "",
      "userId": "00529290869426949889"
     },
     "user_tz": -480
    },
    "id": "JckyAx9n0cIM",
    "outputId": "12e327b0-0bc7-46f9-d226-25ac70aa5f72"
   },
   "outputs": [
    {
     "data": {
      "text/html": [
       "<div>\n",
       "<style scoped>\n",
       "    .dataframe tbody tr th:only-of-type {\n",
       "        vertical-align: middle;\n",
       "    }\n",
       "\n",
       "    .dataframe tbody tr th {\n",
       "        vertical-align: top;\n",
       "    }\n",
       "\n",
       "    .dataframe thead th {\n",
       "        text-align: right;\n",
       "    }\n",
       "</style>\n",
       "<table border=\"1\" class=\"dataframe\">\n",
       "  <thead>\n",
       "    <tr style=\"text-align: right;\">\n",
       "      <th></th>\n",
       "      <th>Close</th>\n",
       "      <th>Comp</th>\n",
       "      <th>Predicted_Close</th>\n",
       "    </tr>\n",
       "    <tr>\n",
       "      <th>Datetime</th>\n",
       "      <th></th>\n",
       "      <th></th>\n",
       "      <th></th>\n",
       "    </tr>\n",
       "  </thead>\n",
       "  <tbody>\n",
       "    <tr>\n",
       "      <th>2021-01-01 09:30:00</th>\n",
       "      <td>36.790001</td>\n",
       "      <td>0.265300</td>\n",
       "      <td>36.358036</td>\n",
       "    </tr>\n",
       "    <tr>\n",
       "      <th>2021-01-01 10:00:00</th>\n",
       "      <td>36.790001</td>\n",
       "      <td>0.245100</td>\n",
       "      <td>36.331097</td>\n",
       "    </tr>\n",
       "    <tr>\n",
       "      <th>2021-01-01 10:30:00</th>\n",
       "      <td>36.790001</td>\n",
       "      <td>0.257640</td>\n",
       "      <td>36.320087</td>\n",
       "    </tr>\n",
       "    <tr>\n",
       "      <th>2021-01-01 11:00:00</th>\n",
       "      <td>36.790001</td>\n",
       "      <td>0.113250</td>\n",
       "      <td>36.316307</td>\n",
       "    </tr>\n",
       "    <tr>\n",
       "      <th>2021-01-01 11:30:00</th>\n",
       "      <td>36.790001</td>\n",
       "      <td>0.501367</td>\n",
       "      <td>36.295177</td>\n",
       "    </tr>\n",
       "    <tr>\n",
       "      <th>...</th>\n",
       "      <td>...</td>\n",
       "      <td>...</td>\n",
       "      <td>...</td>\n",
       "    </tr>\n",
       "    <tr>\n",
       "      <th>2021-03-30 13:30:00</th>\n",
       "      <td>NaN</td>\n",
       "      <td>NaN</td>\n",
       "      <td>35.800816</td>\n",
       "    </tr>\n",
       "    <tr>\n",
       "      <th>2021-03-30 14:00:00</th>\n",
       "      <td>NaN</td>\n",
       "      <td>NaN</td>\n",
       "      <td>35.861416</td>\n",
       "    </tr>\n",
       "    <tr>\n",
       "      <th>2021-03-30 14:30:00</th>\n",
       "      <td>NaN</td>\n",
       "      <td>NaN</td>\n",
       "      <td>35.893414</td>\n",
       "    </tr>\n",
       "    <tr>\n",
       "      <th>2021-03-30 15:00:00</th>\n",
       "      <td>NaN</td>\n",
       "      <td>NaN</td>\n",
       "      <td>35.933006</td>\n",
       "    </tr>\n",
       "    <tr>\n",
       "      <th>2021-03-30 15:30:00</th>\n",
       "      <td>NaN</td>\n",
       "      <td>NaN</td>\n",
       "      <td>35.917534</td>\n",
       "    </tr>\n",
       "  </tbody>\n",
       "</table>\n",
       "<p>786 rows × 3 columns</p>\n",
       "</div>"
      ],
      "text/plain": [
       "                         Close      Comp  Predicted_Close\n",
       "Datetime                                                 \n",
       "2021-01-01 09:30:00  36.790001  0.265300        36.358036\n",
       "2021-01-01 10:00:00  36.790001  0.245100        36.331097\n",
       "2021-01-01 10:30:00  36.790001  0.257640        36.320087\n",
       "2021-01-01 11:00:00  36.790001  0.113250        36.316307\n",
       "2021-01-01 11:30:00  36.790001  0.501367        36.295177\n",
       "...                        ...       ...              ...\n",
       "2021-03-30 13:30:00        NaN       NaN        35.800816\n",
       "2021-03-30 14:00:00        NaN       NaN        35.861416\n",
       "2021-03-30 14:30:00        NaN       NaN        35.893414\n",
       "2021-03-30 15:00:00        NaN       NaN        35.933006\n",
       "2021-03-30 15:30:00        NaN       NaN        35.917534\n",
       "\n",
       "[786 rows x 3 columns]"
      ]
     },
     "execution_count": 51,
     "metadata": {
      "tags": []
     },
     "output_type": "execute_result"
    }
   ],
   "source": [
    "FullDataOrig.index.names = ['Datetime']\n",
    "FullDataOrig "
   ]
  },
  {
   "cell_type": "code",
   "execution_count": null,
   "metadata": {
    "id": "x7aFlUHIdxqo"
   },
   "outputs": [],
   "source": [
    "FullDataOrig.to_csv('PFE_LSTM_Dashboard.csv') "
   ]
  },
  {
   "cell_type": "code",
   "execution_count": null,
   "metadata": {
    "colab": {
     "base_uri": "https://localhost:8080/"
    },
    "executionInfo": {
     "elapsed": 173469,
     "status": "ok",
     "timestamp": 1616928802199,
     "user": {
      "displayName": "TAY YU LIANG _",
      "photoUrl": "",
      "userId": "00529290869426949889"
     },
     "user_tz": -480
    },
    "id": "l_5VyOe8eUcT",
    "outputId": "6cee0171-5a84-4a51-e3cd-af2cef5fc832"
   },
   "outputs": [
    {
     "name": "stderr",
     "output_type": "stream",
     "text": [
      "/usr/local/lib/python3.7/dist-packages/sklearn/preprocessing/_data.py:173: UserWarning: Numerical issues were encountered when centering the data and might not be solved. Dataset may contain too large values. You may need to prescale your features.\n",
      "  warnings.warn(\"Numerical issues were encountered \"\n",
      "/usr/local/lib/python3.7/dist-packages/sklearn/preprocessing/_data.py:190: UserWarning: Numerical issues were encountered when scaling the data and might not be solved. The standard deviation of the data is probably very close to 0. \n",
      "  warnings.warn(\"Numerical issues were encountered \"\n"
     ]
    },
    {
     "data": {
      "text/plain": [
       "array([ 1.29732835e+00,  1.24939036e+00,  1.22979987e+00,  1.22307277e+00,\n",
       "        1.18547320e+00,  1.28366375e+00,  1.18114233e+00,  1.18058574e+00,\n",
       "        1.17255533e+00,  1.25722396e+00,  1.25223470e+00,  1.26302099e+00,\n",
       "        1.29971099e+00,  1.12024593e+00,  1.05541229e+00,  1.00225425e+00,\n",
       "        1.01253152e+00,  9.80715573e-01,  9.71347928e-01,  8.41870785e-01,\n",
       "        8.81724000e-01,  8.46588552e-01,  8.39080870e-01,  9.40102100e-01,\n",
       "        1.03250909e+00,  1.10046518e+00,  1.21747255e+00,  1.16103590e+00,\n",
       "        1.16458607e+00,  1.29799354e+00,  1.28800142e+00,  1.38414872e+00,\n",
       "        1.60759425e+00,  1.62341738e+00,  1.50627434e+00,  1.64261425e+00,\n",
       "        1.57474637e+00,  1.45007527e+00,  1.52138472e+00,  1.35817051e+00,\n",
       "        1.45759654e+00,  1.59477818e+00,  1.64205766e+00,  1.59139097e+00,\n",
       "        1.57958627e+00,  1.64158249e+00,  1.68946612e+00,  1.70395195e+00,\n",
       "        1.48820424e+00,  1.42510164e+00,  1.33999860e+00,  1.22922957e+00,\n",
       "        1.48995566e+00,  1.45294666e+00,  1.43605769e+00,  1.33710003e+00,\n",
       "        1.26677489e+00,  1.32942271e+00,  1.33549809e+00,  1.34463489e+00,\n",
       "        1.32289922e+00,  1.30934334e+00,  1.44236386e+00,  1.47259152e+00,\n",
       "        1.58902180e+00,  1.54802144e+00,  1.47754014e+00,  1.47133577e+00,\n",
       "        1.47294450e+00,  1.49455118e+00,  1.51836395e+00,  1.53472340e+00,\n",
       "        1.49460554e+00,  1.39444637e+00,  1.39361143e+00,  1.45303488e+00,\n",
       "        1.66337240e+00,  1.72430968e+00,  1.74740970e+00,  1.68160546e+00,\n",
       "        1.62846780e+00,  1.76194990e+00,  1.94028831e+00,  1.90076768e+00,\n",
       "        1.93953478e+00,  2.04302001e+00,  2.08087087e+00,  2.18274736e+00,\n",
       "        2.01036239e+00,  1.89795053e+00,  1.69495094e+00,  1.50053155e+00,\n",
       "        1.41918242e+00,  1.27173698e+00,  1.20158148e+00,  1.32279742e+00,\n",
       "        1.37291431e+00,  1.44205844e+00,  1.47490633e+00,  1.37224233e+00,\n",
       "        1.34136987e+00,  1.25293386e+00,  1.41489232e+00,  1.35427415e+00,\n",
       "        1.29055381e+00,  1.20528781e+00,  1.12878537e+00,  1.20164943e+00,\n",
       "        1.19300127e+00,  1.23992097e+00,  1.21359646e+00,  1.23048544e+00,\n",
       "        1.46336639e+00,  1.33781278e+00,  1.26196885e+00,  1.28180385e+00,\n",
       "        1.25023890e+00,  1.27451336e+00,  1.32296717e+00,  1.30687249e+00,\n",
       "        1.38973534e+00,  1.24277878e+00,  1.19554687e+00,  1.14417410e+00,\n",
       "        1.02830040e+00,  1.05505931e+00,  1.11256850e+00,  1.14740527e+00,\n",
       "        1.14678073e+00,  1.16870654e+00,  1.18725169e+00,  1.20792842e+00,\n",
       "        1.14687586e+00,  1.14099050e+00,  1.10483003e+00,  1.24025357e+00,\n",
       "        1.32780027e+00,  1.14965212e+00,  1.17211413e+00,  1.22963691e+00,\n",
       "        1.10483682e+00,  1.05070806e+00,  1.03647339e+00,  1.20866156e+00,\n",
       "        1.27807713e+00,  1.26026499e+00,  1.05095243e+00,  1.20147967e+00,\n",
       "        1.24619997e+00,  1.44800484e+00,  1.34347415e+00,  1.21598589e+00,\n",
       "        1.16527164e+00,  1.08760166e+00,  1.15275431e+00,  1.16958892e+00,\n",
       "        1.15403056e+00,  1.12653852e+00,  1.13488114e+00,  1.13568211e+00,\n",
       "        1.09867990e+00,  1.10060775e+00,  1.03727436e+00,  9.91508722e-01,\n",
       "        9.57323611e-01,  9.57527280e-01,  8.97723675e-01,  9.39484358e-01,\n",
       "        9.76466179e-01,  1.01385522e+00,  8.95612538e-01,  8.99223864e-01,\n",
       "        8.33908260e-01,  8.67285609e-01,  7.53427982e-01,  7.02415049e-01,\n",
       "        6.79634035e-01,  7.77003229e-01,  8.37967575e-01,  8.43323469e-01,\n",
       "        8.67217720e-01,  8.74094129e-01,  9.14700806e-01,  9.62414742e-01,\n",
       "        7.70506978e-01,  8.89638960e-01,  8.85681510e-01,  8.69172692e-01,\n",
       "        1.04660809e+00,  1.20031893e+00,  1.17293549e+00,  1.11728621e+00,\n",
       "        1.12387073e+00,  1.12138629e+00,  1.14220560e+00,  1.09131479e+00,\n",
       "        1.04006433e+00,  1.10260355e+00,  1.24371552e+00,  1.33232796e+00,\n",
       "        1.36043775e+00,  1.38706088e+00,  1.37386465e+00,  1.38860857e+00,\n",
       "        1.43926847e+00,  1.50987887e+00,  1.49294913e+00,  1.53168237e+00,\n",
       "        1.48441648e+00,  1.52139151e+00,  1.62203944e+00,  1.58409369e+00,\n",
       "        1.75408244e+00,  1.72791409e+00,  1.74863160e+00,  1.73054790e+00,\n",
       "        1.72877622e+00,  1.73648083e+00,  1.79107118e+00,  1.81309879e+00,\n",
       "        1.78422868e+00,  1.72437751e+00,  1.35602546e+00,  1.04351950e+00,\n",
       "        9.39891636e-01,  1.04240620e+00,  9.24068451e-01,  8.17216218e-01,\n",
       "        8.48604620e-01,  7.86886752e-01,  8.16218376e-01,  8.86849046e-01,\n",
       "        8.94764006e-01,  8.70964766e-01,  8.91220629e-01,  6.63695455e-01,\n",
       "        6.38552189e-01,  6.13551438e-01,  6.01923287e-01,  6.05113745e-01,\n",
       "        6.24446392e-01,  5.85027635e-01,  6.05242729e-01,  6.62717998e-01,\n",
       "        5.82855403e-01,  5.10806024e-01,  4.83069628e-01,  4.50133532e-01,\n",
       "        6.52535737e-01,  8.28810394e-01,  7.93383062e-01,  7.12923110e-01,\n",
       "        6.32816195e-01,  5.30376256e-01,  4.53900963e-01,  3.85225266e-01,\n",
       "        3.15354854e-01,  3.18592817e-01,  3.24579954e-01,  3.43213439e-01,\n",
       "        3.61358136e-01,  4.31961685e-01,  4.05569345e-01,  3.47082675e-01,\n",
       "        4.24168885e-01,  4.08128500e-01,  4.42714095e-01,  4.28954542e-01,\n",
       "        4.55788046e-01,  4.32728738e-01,  4.28282499e-01,  3.52682889e-01,\n",
       "        3.19468498e-01,  3.33771110e-01, -6.00501150e-02, -3.88379276e-01,\n",
       "       -6.87179983e-01, -7.46983588e-01, -7.71271586e-01, -7.67198682e-01,\n",
       "       -6.86582625e-01, -5.53351641e-01, -4.23867702e-01, -3.69718641e-01,\n",
       "       -3.14116925e-01, -2.97472388e-01, -2.95863599e-01, -2.84731030e-01,\n",
       "       -3.52999419e-01, -4.14262474e-01, -4.81254727e-01, -5.71285963e-01,\n",
       "       -5.60927212e-01, -5.53969383e-01, -5.95438182e-01, -5.42042613e-01,\n",
       "       -5.35838246e-01, -5.59393108e-01, -5.67369163e-01, -6.34558260e-01,\n",
       "       -6.01771533e-01, -5.87014079e-01, -5.63859701e-01, -4.94308352e-01,\n",
       "       -4.59383309e-01, -4.69993204e-01, -4.79014635e-01, -5.01558065e-01,\n",
       "       -5.26843965e-01, -5.30957580e-01, -5.85364580e-01, -6.14770830e-01,\n",
       "       -6.19895875e-01, -7.77360559e-01, -6.67121053e-01, -4.92183656e-01,\n",
       "       -4.02485043e-01, -3.26912582e-01, -3.92207772e-01, -4.43750173e-01,\n",
       "       -4.31280345e-01, -5.20653129e-01, -5.88344574e-01, -6.26751900e-01,\n",
       "       -6.01018012e-01, -5.79669297e-01, -6.07344568e-01, -6.25373900e-01,\n",
       "       -7.18649864e-01, -7.59412706e-01, -7.56147563e-01, -7.07293272e-01,\n",
       "       -6.62613690e-01, -6.43362522e-01, -6.08227074e-01, -6.10012352e-01,\n",
       "       -6.23676896e-01, -6.15028799e-01, -6.38515770e-01, -6.29867673e-01,\n",
       "       -5.52815378e-01, -5.62230527e-01, -5.02515197e-01, -5.33720315e-01,\n",
       "       -5.20354450e-01, -4.96779233e-01, -4.63463008e-01, -4.16169941e-01,\n",
       "       -4.74636286e-01, -4.92550224e-01, -5.45823574e-01, -5.58164477e-01,\n",
       "       -5.86077332e-01, -5.62651396e-01, -5.56990087e-01, -4.74283308e-01,\n",
       "       -5.81936538e-01, -5.94161987e-01, -6.18769050e-01, -6.22074842e-01,\n",
       "       -6.40932322e-01, -6.32352114e-01, -6.42921269e-01, -7.86137640e-01,\n",
       "       -8.51785839e-01, -9.47607338e-01, -9.58088219e-01, -8.81463587e-01,\n",
       "       -9.18927372e-01, -9.69906390e-01, -1.01852989e+00, -9.95633483e-01,\n",
       "       -9.79918897e-01, -9.65351522e-01, -9.27589059e-01, -9.01889145e-01,\n",
       "       -8.65973055e-01, -8.25502098e-01, -8.03175867e-01, -6.34117067e-01,\n",
       "       -6.34626150e-01, -5.93849778e-01, -5.82812250e-01, -5.94732225e-01,\n",
       "       -5.85547864e-01, -6.30838394e-01, -6.88089609e-01, -7.65243709e-01,\n",
       "       -7.67286956e-01, -7.78147995e-01, -7.44594157e-01, -7.03919590e-01,\n",
       "       -6.75606191e-01, -6.58846259e-01, -6.28564358e-01, -6.84335768e-01,\n",
       "       -6.29704773e-01, -6.38875544e-01, -7.33101845e-01, -8.23886514e-01,\n",
       "       -8.45275998e-01, -6.68519378e-01, -7.86979377e-01, -7.47098982e-01,\n",
       "       -7.44560242e-01, -6.04412138e-01, -5.93130231e-01, -6.38142407e-01,\n",
       "       -7.27270782e-01, -7.24704862e-01, -7.36889601e-01, -7.32904971e-01,\n",
       "       -7.67490566e-01, -7.48673856e-01, -7.91018307e-01, -7.69947886e-01,\n",
       "       -7.36828506e-01, -6.86222851e-01, -5.71089089e-01, -4.72952843e-01,\n",
       "       -4.19950932e-01, -4.46947426e-01, -4.52527285e-01, -4.93005008e-01,\n",
       "       -5.47384858e-01, -5.51450968e-01, -5.94182372e-01, -5.98995149e-01,\n",
       "       -8.41698647e-01, -8.90946627e-01, -7.44227588e-01, -7.55475581e-01,\n",
       "       -7.71835029e-01, -7.23836005e-01, -7.47180462e-01, -7.15703785e-01,\n",
       "       -7.63241231e-01, -7.34445870e-01, -8.07567835e-01, -8.89758706e-01,\n",
       "       -9.77135777e-01, -9.48028207e-01, -8.23981583e-01, -8.22379529e-01,\n",
       "       -8.34435284e-01, -8.56218457e-01, -8.99499714e-01, -8.72197747e-01,\n",
       "       -9.26333249e-01, -9.37011003e-01, -9.42074955e-01, -8.57175589e-01,\n",
       "       -1.03117621e+00, -1.16225541e+00, -1.19363701e+00, -1.04333389e+00,\n",
       "       -1.08134067e+00, -1.08484340e+00, -1.11194849e+00, -1.07180333e+00,\n",
       "       -1.10553360e+00, -1.12914288e+00, -1.07742393e+00, -9.09851611e-01,\n",
       "       -1.05155432e+00, -1.17691100e+00, -1.36494279e+00, -1.56013596e+00,\n",
       "       -1.62602854e+00, -1.56989050e+00, -1.54465902e+00, -1.50390291e+00,\n",
       "       -1.55618525e+00, -1.50216520e+00, -1.49769175e+00, -1.43278348e+00,\n",
       "       -1.38604712e+00, -1.42584598e+00, -1.36538398e+00, -1.37080085e+00,\n",
       "       -1.42511964e+00, -1.51574826e+00, -1.53996158e+00, -1.47258914e+00,\n",
       "       -1.41281271e+00, -1.35031426e+00, -1.38387489e+00, -1.42130470e+00,\n",
       "       -1.41387177e+00, -1.30735886e+00, -1.38117325e+00, -1.44312859e+00,\n",
       "       -1.54717731e+00, -1.59663582e+00, -1.59058082e+00, -1.51038563e+00,\n",
       "       -1.51999760e+00, -1.56678832e+00, -1.68321180e+00, -1.77739739e+00,\n",
       "       -1.82001328e+00, -1.80704117e+00, -1.69490778e+00, -1.65557730e+00,\n",
       "       -1.68224120e+00, -1.68160987e+00, -1.71611404e+00, -1.78020084e+00,\n",
       "       -1.83643389e+00, -1.78514254e+00, -1.83709228e+00, -1.79731369e+00,\n",
       "       -1.68154871e+00, -1.54605055e+00, -1.47043061e+00, -1.42656553e+00,\n",
       "       -1.46350670e+00, -1.49821448e+00, -1.52103615e+00, -1.56964612e+00,\n",
       "       -1.62616432e+00, -1.65798032e+00, -1.62433827e+00, -1.62642896e+00,\n",
       "       -1.59730780e+00, -1.69389641e+00, -1.70223904e+00, -1.68433189e+00,\n",
       "       -1.64686131e+00, -1.59481657e+00, -1.57490695e+00, -1.59096098e+00,\n",
       "       -1.63625145e+00, -1.65085959e+00, -1.67049766e+00, -1.76623774e+00,\n",
       "       -1.77137637e+00, -1.75285149e+00, -1.63830149e+00, -1.51298547e+00,\n",
       "       -1.39895809e+00, -1.38117325e+00, -1.30308914e+00, -1.25953639e+00,\n",
       "       -1.25090182e+00, -1.14837360e+00, -1.10190880e+00, -1.05158138e+00,\n",
       "       -1.07719314e+00, -9.07027781e-01, -8.59402120e-01, -7.44370162e-01,\n",
       "       -7.01781332e-01, -8.83982003e-01, -1.02427268e+00, -1.28918695e+00,\n",
       "       -1.31987619e+00, -1.32470942e+00, -1.33590984e+00, -1.18045449e+00,\n",
       "       -1.18497539e+00, -1.09120381e+00, -1.04315734e+00, -1.16188204e+00,\n",
       "       -1.22312474e+00, -1.25275505e+00, -1.24212480e+00, -1.25477111e+00,\n",
       "       -1.18402505e+00, -1.10854757e+00, -1.03968179e+00, -9.55237210e-01,\n",
       "       -8.36974084e-01, -6.69883788e-01, -5.50867200e-01, -4.68526959e-01,\n",
       "       -5.34745336e-01, -6.38128817e-01, -7.18602359e-01, -7.37582028e-01,\n",
       "       -8.00834000e-01, -7.67510951e-01, -8.07106197e-01, -8.10751438e-01,\n",
       "       -9.23937023e-01, -8.50842237e-01, -8.76114547e-01, -8.15326691e-01,\n",
       "       -7.37948537e-01, -6.86799884e-01, -6.80072784e-01, -6.78117812e-01,\n",
       "       -5.65292001e-01, -6.61975622e-01, -7.77082264e-01, -8.01295578e-01,\n",
       "       -9.82640922e-01, -8.38548899e-01, -8.10228765e-01, -6.68512583e-01,\n",
       "       -5.74503541e-01, -5.36469519e-01, -6.11607552e-01, -6.05538964e-01,\n",
       "       -5.60587823e-01, -5.50419152e-01, -5.03811777e-01, -3.97027373e-01,\n",
       "       -3.37210208e-01, -5.30869305e-01, -6.17486060e-01, -5.08359790e-01,\n",
       "       -5.25425196e-01, -5.02888560e-01, -5.02074003e-01, -5.27801096e-01,\n",
       "       -4.97532725e-01, -4.60157156e-01, -5.18718541e-01, -6.54040277e-01,\n",
       "       -7.99673200e-01, -8.53448927e-01, -9.13795531e-01, -8.16630006e-01,\n",
       "       -6.81572974e-01, -5.38960755e-01, -4.52242196e-01, -5.36075830e-01,\n",
       "       -5.69711089e-01, -5.29593110e-01, -5.93618929e-01, -6.05769753e-01,\n",
       "       -6.48704767e-01, -6.56565428e-01, -3.37210208e-01, -5.30869305e-01,\n",
       "       -6.17486060e-01, -5.08359790e-01, -5.25425196e-01, -5.02888560e-01,\n",
       "       -5.02074003e-01, -5.27801096e-01, -4.97532725e-01, -4.60157156e-01,\n",
       "       -5.18718541e-01, -6.54040277e-01, -7.99673200e-01, -8.53448927e-01,\n",
       "       -9.13795531e-01, -8.16630006e-01, -6.81572974e-01, -5.38960755e-01,\n",
       "       -4.52242196e-01, -5.36075830e-01, -5.69711089e-01, -5.29593110e-01,\n",
       "       -5.93618929e-01, -6.05769753e-01, -6.48704767e-01, -6.56565428e-01,\n",
       "       -5.93456030e-01, -4.14072394e-01, -3.16350222e-01, -3.89730096e-01,\n",
       "       -2.69206524e-01, -2.43160397e-01, -3.41765046e-01, -3.87259215e-01,\n",
       "       -2.85823911e-01, -2.47552335e-01, -2.18723089e-01, -1.80736601e-01,\n",
       "       -1.88925804e-03, -4.40029278e-02,  1.35014117e-01,  8.35328028e-02,\n",
       "        6.34670332e-02, -5.58879878e-03, -6.54592738e-03,  1.37756526e-01,\n",
       "        1.96127817e-01,  1.75505415e-01,  1.75892353e-01,  1.67828023e-01,\n",
       "        1.78057760e-01,  2.69385517e-01, -3.72884609e-03, -2.55052261e-02,\n",
       "       -1.13873340e-01,  1.96155962e-02,  5.71065359e-02,  1.59804434e-01,\n",
       "        2.44208291e-01,  3.21111202e-01,  3.33906889e-01,  3.41672510e-01,\n",
       "        2.95356989e-01,  2.77422696e-01,  3.36628914e-01,  3.11967582e-01,\n",
       "        3.96609008e-01,  3.19712847e-01,  3.16074401e-01,  4.55346823e-01,\n",
       "        4.78474051e-01,  4.93190765e-01,  4.54063863e-01,  3.95271748e-01,\n",
       "        4.42754835e-01,  3.46084803e-01,  2.23606259e-01,  1.42942667e-01,\n",
       "        6.89722225e-02, -3.93249048e-03,  1.04935832e-01,  1.10902615e-01,\n",
       "        2.65971094e-01,  2.47310475e-01,  2.68720299e-01,  2.88677454e-01,\n",
       "        1.85110658e-01,  1.73149928e-01, -5.35266995e-02,  1.58989862e-01,\n",
       "        2.27543384e-01,  2.81543106e-01,  3.63360643e-01,  3.85123461e-01,\n",
       "        4.75405812e-01,  4.98641640e-01,  5.20682752e-01,  4.71407592e-01,\n",
       "        3.67297769e-01,  3.81634355e-01,  3.46831501e-01,  4.13416445e-01,\n",
       "        3.53517830e-01,  2.23830268e-01,  9.77268144e-02, -4.56378842e-03,\n",
       "        4.84380759e-02,  1.10074461e-01,  6.38811067e-02,  1.07237011e-01,\n",
       "        1.30927652e-01,  1.54883027e-01,  8.51891041e-02,  3.39870946e-03,\n",
       "       -4.81029712e-02, -1.78685598e-02,  1.68758005e-01,  2.04015642e-01,\n",
       "        2.46984631e-01,  3.52126271e-01,  3.20588529e-01,  3.81478220e-01,\n",
       "        4.17401105e-01,  3.51169139e-01,  3.13875049e-01,  3.09130132e-01,\n",
       "        1.87269285e-01,  1.62872672e-01,  1.26447469e-01, -2.56128469e-03,\n",
       "       -1.14328146e-01, -1.73099935e-01, -1.12732932e-01, -1.01206660e-01,\n",
       "       -7.70069063e-02, -8.23617633e-03, -3.03044468e-02,  2.71504410e-02,\n",
       "        7.25835189e-02,  1.03245579e-01,  1.63144201e-01,  1.34240270e-01,\n",
       "        3.05301607e-01,  4.40609783e-01,  4.43155348e-01,  3.89861584e-01,\n",
       "        3.12829673e-01,  3.05770010e-01,  4.13606524e-01,  4.70545501e-01,\n",
       "        5.40999651e-01,  5.13466954e-01], dtype=float32)"
      ]
     },
     "execution_count": 52,
     "metadata": {
      "tags": []
     },
     "output_type": "execute_result"
    }
   ],
   "source": [
    "from sklearn import preprocessing\n",
    "\n",
    "final_pred_scaling = FullDataOrig['Predicted_Close'].reset_index()\n",
    "final_pred_scaling = final_pred_scaling['Predicted_Close'] \n",
    "final_pred_scaling = preprocessing.scale(np.asarray(final_pred_scaling))\n",
    "final_pred_scaling"
   ]
  },
  {
   "cell_type": "code",
   "execution_count": null,
   "metadata": {
    "id": "kgukA7Xv0jmP"
   },
   "outputs": [],
   "source": [
    "final_pred_scaling = final_pred_scaling.reshape(-1,1)"
   ]
  },
  {
   "cell_type": "code",
   "execution_count": null,
   "metadata": {
    "colab": {
     "base_uri": "https://localhost:8080/",
     "height": 435
    },
    "executionInfo": {
     "elapsed": 173431,
     "status": "ok",
     "timestamp": 1616928802202,
     "user": {
      "displayName": "TAY YU LIANG _",
      "photoUrl": "",
      "userId": "00529290869426949889"
     },
     "user_tz": -480
    },
    "id": "RPfbVUBe0mJC",
    "outputId": "149a8a78-fe30-4e54-b9e0-ef285ea93a0f"
   },
   "outputs": [
    {
     "data": {
      "text/html": [
       "<div>\n",
       "<style scoped>\n",
       "    .dataframe tbody tr th:only-of-type {\n",
       "        vertical-align: middle;\n",
       "    }\n",
       "\n",
       "    .dataframe tbody tr th {\n",
       "        vertical-align: top;\n",
       "    }\n",
       "\n",
       "    .dataframe thead th {\n",
       "        text-align: right;\n",
       "    }\n",
       "</style>\n",
       "<table border=\"1\" class=\"dataframe\">\n",
       "  <thead>\n",
       "    <tr style=\"text-align: right;\">\n",
       "      <th></th>\n",
       "      <th>Pred_Norm_Close</th>\n",
       "    </tr>\n",
       "    <tr>\n",
       "      <th>Datetime</th>\n",
       "      <th></th>\n",
       "    </tr>\n",
       "  </thead>\n",
       "  <tbody>\n",
       "    <tr>\n",
       "      <th>2021-01-01 09:30:00</th>\n",
       "      <td>1.297328</td>\n",
       "    </tr>\n",
       "    <tr>\n",
       "      <th>2021-01-01 10:00:00</th>\n",
       "      <td>1.249390</td>\n",
       "    </tr>\n",
       "    <tr>\n",
       "      <th>2021-01-01 10:30:00</th>\n",
       "      <td>1.229800</td>\n",
       "    </tr>\n",
       "    <tr>\n",
       "      <th>2021-01-01 11:00:00</th>\n",
       "      <td>1.223073</td>\n",
       "    </tr>\n",
       "    <tr>\n",
       "      <th>2021-01-01 11:30:00</th>\n",
       "      <td>1.185473</td>\n",
       "    </tr>\n",
       "    <tr>\n",
       "      <th>...</th>\n",
       "      <td>...</td>\n",
       "    </tr>\n",
       "    <tr>\n",
       "      <th>2021-03-30 13:30:00</th>\n",
       "      <td>0.305770</td>\n",
       "    </tr>\n",
       "    <tr>\n",
       "      <th>2021-03-30 14:00:00</th>\n",
       "      <td>0.413607</td>\n",
       "    </tr>\n",
       "    <tr>\n",
       "      <th>2021-03-30 14:30:00</th>\n",
       "      <td>0.470546</td>\n",
       "    </tr>\n",
       "    <tr>\n",
       "      <th>2021-03-30 15:00:00</th>\n",
       "      <td>0.541000</td>\n",
       "    </tr>\n",
       "    <tr>\n",
       "      <th>2021-03-30 15:30:00</th>\n",
       "      <td>0.513467</td>\n",
       "    </tr>\n",
       "  </tbody>\n",
       "</table>\n",
       "<p>786 rows × 1 columns</p>\n",
       "</div>"
      ],
      "text/plain": [
       "                     Pred_Norm_Close\n",
       "Datetime                            \n",
       "2021-01-01 09:30:00         1.297328\n",
       "2021-01-01 10:00:00         1.249390\n",
       "2021-01-01 10:30:00         1.229800\n",
       "2021-01-01 11:00:00         1.223073\n",
       "2021-01-01 11:30:00         1.185473\n",
       "...                              ...\n",
       "2021-03-30 13:30:00         0.305770\n",
       "2021-03-30 14:00:00         0.413607\n",
       "2021-03-30 14:30:00         0.470546\n",
       "2021-03-30 15:00:00         0.541000\n",
       "2021-03-30 15:30:00         0.513467\n",
       "\n",
       "[786 rows x 1 columns]"
      ]
     },
     "execution_count": 54,
     "metadata": {
      "tags": []
     },
     "output_type": "execute_result"
    }
   ],
   "source": [
    "df_normalised_pred = pd.DataFrame(final_pred_scaling, columns =['Pred_Norm_Close'])\n",
    "df_normalised_pred.index = FullDataOrig.index\n",
    "df_normalised_pred.index.names = ['Datetime']\n",
    "df_normalised_pred"
   ]
  },
  {
   "cell_type": "code",
   "execution_count": null,
   "metadata": {
    "id": "cXyhtEX001mb"
   },
   "outputs": [],
   "source": [
    "df_normalised_pred = df_normalised_pred[df_normalised_pred.index >= '2021-03-05 11:30:00']"
   ]
  },
  {
   "cell_type": "code",
   "execution_count": null,
   "metadata": {
    "colab": {
     "base_uri": "https://localhost:8080/",
     "height": 513
    },
    "executionInfo": {
     "elapsed": 175850,
     "status": "ok",
     "timestamp": 1616928804663,
     "user": {
      "displayName": "TAY YU LIANG _",
      "photoUrl": "",
      "userId": "00529290869426949889"
     },
     "user_tz": -480
    },
    "id": "o2ofVEQj0sad",
    "outputId": "631ff754-6a3e-451c-cdf6-969dd9bcf75c"
   },
   "outputs": [
    {
     "data": {
      "image/png": "[encoded data removed]",
      "text/plain": [
       "<Figure size 1440x576 with 1 Axes>"
      ]
     },
     "metadata": {
      "needs_background": "light",
      "tags": []
     },
     "output_type": "display_data"
    }
   ],
   "source": [
    "# plotting the full data\n",
    "plt.plot(df_normalised_pred['Pred_Norm_Close'] , color = 'blue', label = 'Predicted Normalised Price')\n",
    "\n",
    "plt.title('Stock Price Predictions')\n",
    "plt.xlabel('Trading Datetime')\n",
    "plt.ylabel('Stock Price')\n",
    "plt.legend()\n",
    "fig=plt.gcf()\n",
    "fig.set_figwidth(20)\n",
    "fig.set_figheight(8)\n",
    "plt.show()"
   ]
  },
  {
   "cell_type": "code",
   "execution_count": null,
   "metadata": {
    "id": "EBGa7TuD1TiY"
   },
   "outputs": [],
   "source": [
    "df_normalised_pred.to_csv('LSTM_PFE_NormalisedPred.csv')"
   ]
  }
 ],
 "metadata": {
  "colab": {
   "collapsed_sections": [],
   "name": "Improved LSTM Model rmse 057.ipynb",
   "provenance": []
  },
  "kernelspec": {
   "display_name": "Python 3",
   "language": "python",
   "name": "python3"
  },
  "language_info": {
   "codemirror_mode": {
    "name": "ipython",
    "version": 3
   },
   "file_extension": ".py",
   "mimetype": "text/x-python",
   "name": "python",
   "nbconvert_exporter": "python",
   "pygments_lexer": "ipython3",
   "version": "3.7.4"
  }
 },
 "nbformat": 4,
 "nbformat_minor": 1
}
